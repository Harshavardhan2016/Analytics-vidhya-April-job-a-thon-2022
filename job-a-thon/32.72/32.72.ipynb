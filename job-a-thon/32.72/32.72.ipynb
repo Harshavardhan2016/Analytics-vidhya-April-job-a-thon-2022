{
 "cells": [
  {
   "cell_type": "code",
   "execution_count": 114,
   "id": "e448be77",
   "metadata": {},
   "outputs": [],
   "source": [
    "import numpy as np\n",
    "import pandas as pd\n",
    "import seaborn as sns\n",
    "import matplotlib.pyplot as plt\n",
    "%matplotlib inline"
   ]
  },
  {
   "cell_type": "code",
   "execution_count": 115,
   "id": "a5e2fbbe",
   "metadata": {},
   "outputs": [],
   "source": [
    "train= pd.read_csv(\"train_E1GspfA.csv\")"
   ]
  },
  {
   "cell_type": "code",
   "execution_count": 116,
   "id": "49b7add4",
   "metadata": {},
   "outputs": [],
   "source": [
    "test=pd.read_csv(\"test_6QvDdzb.csv\")"
   ]
  },
  {
   "cell_type": "code",
   "execution_count": 117,
   "id": "5ef63d83",
   "metadata": {},
   "outputs": [],
   "source": [
    "ran=pd.read_csv(\"sample_4E0BhPN.csv\")"
   ]
  },
  {
   "cell_type": "code",
   "execution_count": 118,
   "id": "0ec5fb0c",
   "metadata": {},
   "outputs": [
    {
     "data": {
      "text/plain": [
       "((18247, 3), (7650, 2), (7650, 3))"
      ]
     },
     "execution_count": 118,
     "metadata": {},
     "output_type": "execute_result"
    }
   ],
   "source": [
    "train.shape,test.shape,ran.shape"
   ]
  },
  {
   "cell_type": "code",
   "execution_count": 119,
   "id": "6bd9f24b",
   "metadata": {},
   "outputs": [
    {
     "name": "stdout",
     "output_type": "stream",
     "text": [
      "<class 'pandas.core.frame.DataFrame'>\n",
      "RangeIndex: 18247 entries, 0 to 18246\n",
      "Data columns (total 3 columns):\n",
      " #   Column  Non-Null Count  Dtype \n",
      "---  ------  --------------  ----- \n",
      " 0   date    18247 non-null  object\n",
      " 1   hour    18247 non-null  int64 \n",
      " 2   demand  18247 non-null  int64 \n",
      "dtypes: int64(2), object(1)\n",
      "memory usage: 427.8+ KB\n"
     ]
    }
   ],
   "source": [
    "train.info()"
   ]
  },
  {
   "cell_type": "code",
   "execution_count": 120,
   "id": "6e490629",
   "metadata": {},
   "outputs": [
    {
     "name": "stdout",
     "output_type": "stream",
     "text": [
      "<class 'pandas.core.frame.DataFrame'>\n",
      "RangeIndex: 7650 entries, 0 to 7649\n",
      "Data columns (total 2 columns):\n",
      " #   Column  Non-Null Count  Dtype \n",
      "---  ------  --------------  ----- \n",
      " 0   date    7650 non-null   object\n",
      " 1   hour    7650 non-null   int64 \n",
      "dtypes: int64(1), object(1)\n",
      "memory usage: 119.7+ KB\n"
     ]
    }
   ],
   "source": [
    "test.info()"
   ]
  },
  {
   "cell_type": "code",
   "execution_count": 121,
   "id": "17a0d1bd",
   "metadata": {},
   "outputs": [
    {
     "data": {
      "text/plain": [
       "(Timestamp('2021-02-28 00:00:00'), Timestamp('2018-08-18 00:00:00'))"
      ]
     },
     "execution_count": 121,
     "metadata": {},
     "output_type": "execute_result"
    }
   ],
   "source": [
    "train['date']=pd.to_datetime(train['date'],format='%Y-%m-%d',errors='coerce')\n",
    "\n",
    "train['date'].max(),train['date'].min()"
   ]
  },
  {
   "cell_type": "code",
   "execution_count": 122,
   "id": "15edefbd",
   "metadata": {},
   "outputs": [
    {
     "data": {
      "text/plain": [
       "(Timestamp('2022-03-28 00:00:00'), Timestamp('2021-03-01 00:00:00'))"
      ]
     },
     "execution_count": 122,
     "metadata": {},
     "output_type": "execute_result"
    }
   ],
   "source": [
    "test['date']=pd.to_datetime(test['date'],format='%Y-%m-%d',errors='coerce')\n",
    "\n",
    "test['date'].max(),test['date'].min()"
   ]
  },
  {
   "cell_type": "code",
   "execution_count": 123,
   "id": "595916a8",
   "metadata": {},
   "outputs": [],
   "source": [
    "entry=train['date'].value_counts().to_dict()\n",
    "train['entry'] = train['date'].map(entry)\n",
    "\n",
    "# cant map so not using as feature"
   ]
  },
  {
   "cell_type": "code",
   "execution_count": 124,
   "id": "05631a38",
   "metadata": {},
   "outputs": [],
   "source": [
    "entry=test['date'].value_counts().to_dict()\n",
    "test['entry'] = test['date'].map(entry)"
   ]
  },
  {
   "cell_type": "code",
   "execution_count": 125,
   "id": "36b6ecfa",
   "metadata": {},
   "outputs": [
    {
     "name": "stderr",
     "output_type": "stream",
     "text": [
      "C:\\Users\\DELL\\AppData\\Local\\Temp/ipykernel_12060/2881175223.py:5: FutureWarning: Series.dt.weekofyear and Series.dt.week have been deprecated.  Please use Series.dt.isocalendar().week instead.\n",
      "  train['week']=train['date'].dt.week\n"
     ]
    }
   ],
   "source": [
    "train['Month']=train['date'].dt.month\n",
    "train['day']=train['date'].dt.day\n",
    "train['day_week']=train['date'].dt.weekday\n",
    "train['quarter']=train['date'].dt.quarter\n",
    "train['week']=train['date'].dt.week\n",
    "train['year']=train['date'].dt.year"
   ]
  },
  {
   "cell_type": "code",
   "execution_count": 126,
   "id": "8ae08e65",
   "metadata": {},
   "outputs": [
    {
     "name": "stderr",
     "output_type": "stream",
     "text": [
      "C:\\Users\\DELL\\AppData\\Local\\Temp/ipykernel_12060/511191263.py:5: FutureWarning: Series.dt.weekofyear and Series.dt.week have been deprecated.  Please use Series.dt.isocalendar().week instead.\n",
      "  test['week']=test['date'].dt.week\n"
     ]
    }
   ],
   "source": [
    "test['Month']=test['date'].dt.month\n",
    "test['day']=test['date'].dt.day\n",
    "test['day_week']=test['date'].dt.weekday\n",
    "test['quarter']=test['date'].dt.quarter\n",
    "test['week']=test['date'].dt.week\n",
    "test['year']=test['date'].dt.year"
   ]
  },
  {
   "cell_type": "markdown",
   "id": "c3264594",
   "metadata": {},
   "source": [
    "## Feature making\n"
   ]
  },
  {
   "cell_type": "code",
   "execution_count": 127,
   "id": "b8e14787",
   "metadata": {
    "scrolled": true
   },
   "outputs": [],
   "source": [
    "hm=train.groupby(['hour'])['demand'].mean().to_dict()\n",
    "hs=train.groupby(['hour'])['demand'].std().to_dict()"
   ]
  },
  {
   "cell_type": "code",
   "execution_count": 128,
   "id": "d4766f17",
   "metadata": {},
   "outputs": [],
   "source": [
    "train['hm']=train['hour'].map(hm)\n",
    "test['hm']=test['hour'].map(hm)\n",
    "\n",
    "train['hs']=train['hour'].map(hs)\n",
    "test['hs']=test['hour'].map(hs)"
   ]
  },
  {
   "cell_type": "code",
   "execution_count": 129,
   "id": "5b117132",
   "metadata": {},
   "outputs": [],
   "source": [
    "mm=train.groupby(['Month'])['demand'].mean().to_dict()\n",
    "ms=train.groupby(['Month'])['demand'].std().to_dict()"
   ]
  },
  {
   "cell_type": "code",
   "execution_count": 130,
   "id": "8b1a4682",
   "metadata": {},
   "outputs": [],
   "source": [
    "train['mm'] = train['Month'].map(mm)\n",
    "train['ms'] = train['Month'].map(ms)\n",
    "\n",
    "test['mm'] = test['Month'].map(mm)\n",
    "test['ms'] = test['Month'].map(ms)"
   ]
  },
  {
   "cell_type": "code",
   "execution_count": 131,
   "id": "23aa0935",
   "metadata": {},
   "outputs": [],
   "source": [
    "dm=train.groupby(['day'])['demand'].mean().to_dict()\n",
    "ds=train.groupby(['day'])['demand'].std().to_dict()"
   ]
  },
  {
   "cell_type": "code",
   "execution_count": 132,
   "id": "ed63e00d",
   "metadata": {},
   "outputs": [],
   "source": [
    "train['dm'] = train['day'].map(dm)\n",
    "train['ds'] = train['day'].map(ds)"
   ]
  },
  {
   "cell_type": "code",
   "execution_count": 133,
   "id": "d77bb4a1",
   "metadata": {},
   "outputs": [],
   "source": [
    "test['dm'] = test['day'].map(dm)\n",
    "test['ds'] = test['day'].map(ds)"
   ]
  },
  {
   "cell_type": "code",
   "execution_count": null,
   "id": "cb7bf224",
   "metadata": {},
   "outputs": [],
   "source": []
  },
  {
   "cell_type": "code",
   "execution_count": 134,
   "id": "6312bdf1",
   "metadata": {},
   "outputs": [
    {
     "data": {
      "text/html": [
       "<div>\n",
       "<style scoped>\n",
       "    .dataframe tbody tr th:only-of-type {\n",
       "        vertical-align: middle;\n",
       "    }\n",
       "\n",
       "    .dataframe tbody tr th {\n",
       "        vertical-align: top;\n",
       "    }\n",
       "\n",
       "    .dataframe thead th {\n",
       "        text-align: right;\n",
       "    }\n",
       "</style>\n",
       "<table border=\"1\" class=\"dataframe\">\n",
       "  <thead>\n",
       "    <tr style=\"text-align: right;\">\n",
       "      <th></th>\n",
       "      <th>hour</th>\n",
       "      <th>demand</th>\n",
       "      <th>entry</th>\n",
       "      <th>Month</th>\n",
       "      <th>day</th>\n",
       "      <th>day_week</th>\n",
       "      <th>quarter</th>\n",
       "      <th>week</th>\n",
       "      <th>year</th>\n",
       "      <th>hm</th>\n",
       "      <th>hs</th>\n",
       "      <th>mm</th>\n",
       "      <th>ms</th>\n",
       "      <th>dm</th>\n",
       "      <th>ds</th>\n",
       "    </tr>\n",
       "  </thead>\n",
       "  <tbody>\n",
       "    <tr>\n",
       "      <th>count</th>\n",
       "      <td>18247.000000</td>\n",
       "      <td>18247.000000</td>\n",
       "      <td>18247.000000</td>\n",
       "      <td>18247.000000</td>\n",
       "      <td>18247.000000</td>\n",
       "      <td>18247.000000</td>\n",
       "      <td>18247.000000</td>\n",
       "      <td>18247.000000</td>\n",
       "      <td>18247.000000</td>\n",
       "      <td>18247.000000</td>\n",
       "      <td>18247.000000</td>\n",
       "      <td>18247.000000</td>\n",
       "      <td>18247.000000</td>\n",
       "      <td>18247.000000</td>\n",
       "      <td>18247.000000</td>\n",
       "    </tr>\n",
       "    <tr>\n",
       "      <th>mean</th>\n",
       "      <td>12.614731</td>\n",
       "      <td>73.991451</td>\n",
       "      <td>20.676659</td>\n",
       "      <td>6.470324</td>\n",
       "      <td>15.782430</td>\n",
       "      <td>3.025867</td>\n",
       "      <td>2.501233</td>\n",
       "      <td>26.543706</td>\n",
       "      <td>2019.396997</td>\n",
       "      <td>73.991451</td>\n",
       "      <td>38.134046</td>\n",
       "      <td>73.991451</td>\n",
       "      <td>39.938372</td>\n",
       "      <td>73.991451</td>\n",
       "      <td>41.205150</td>\n",
       "    </tr>\n",
       "    <tr>\n",
       "      <th>std</th>\n",
       "      <td>6.544963</td>\n",
       "      <td>41.678988</td>\n",
       "      <td>2.201813</td>\n",
       "      <td>3.618189</td>\n",
       "      <td>8.772904</td>\n",
       "      <td>2.003638</td>\n",
       "      <td>1.167955</td>\n",
       "      <td>15.828694</td>\n",
       "      <td>0.810979</td>\n",
       "      <td>15.100602</td>\n",
       "      <td>7.529657</td>\n",
       "      <td>8.753737</td>\n",
       "      <td>8.149379</td>\n",
       "      <td>3.599753</td>\n",
       "      <td>5.400087</td>\n",
       "    </tr>\n",
       "    <tr>\n",
       "      <th>min</th>\n",
       "      <td>0.000000</td>\n",
       "      <td>1.000000</td>\n",
       "      <td>7.000000</td>\n",
       "      <td>1.000000</td>\n",
       "      <td>1.000000</td>\n",
       "      <td>0.000000</td>\n",
       "      <td>1.000000</td>\n",
       "      <td>1.000000</td>\n",
       "      <td>2018.000000</td>\n",
       "      <td>49.097633</td>\n",
       "      <td>28.839183</td>\n",
       "      <td>64.308677</td>\n",
       "      <td>32.966208</td>\n",
       "      <td>67.919540</td>\n",
       "      <td>33.456105</td>\n",
       "    </tr>\n",
       "    <tr>\n",
       "      <th>25%</th>\n",
       "      <td>8.000000</td>\n",
       "      <td>43.000000</td>\n",
       "      <td>20.000000</td>\n",
       "      <td>3.000000</td>\n",
       "      <td>8.000000</td>\n",
       "      <td>1.000000</td>\n",
       "      <td>1.000000</td>\n",
       "      <td>12.000000</td>\n",
       "      <td>2019.000000</td>\n",
       "      <td>59.585608</td>\n",
       "      <td>30.605050</td>\n",
       "      <td>67.603868</td>\n",
       "      <td>34.594835</td>\n",
       "      <td>71.407407</td>\n",
       "      <td>36.906114</td>\n",
       "    </tr>\n",
       "    <tr>\n",
       "      <th>50%</th>\n",
       "      <td>13.000000</td>\n",
       "      <td>71.000000</td>\n",
       "      <td>21.000000</td>\n",
       "      <td>7.000000</td>\n",
       "      <td>16.000000</td>\n",
       "      <td>3.000000</td>\n",
       "      <td>3.000000</td>\n",
       "      <td>27.000000</td>\n",
       "      <td>2019.000000</td>\n",
       "      <td>70.292824</td>\n",
       "      <td>35.864088</td>\n",
       "      <td>73.252600</td>\n",
       "      <td>38.470985</td>\n",
       "      <td>73.618033</td>\n",
       "      <td>39.254850</td>\n",
       "    </tr>\n",
       "    <tr>\n",
       "      <th>75%</th>\n",
       "      <td>18.000000</td>\n",
       "      <td>98.000000</td>\n",
       "      <td>22.000000</td>\n",
       "      <td>10.000000</td>\n",
       "      <td>23.000000</td>\n",
       "      <td>5.000000</td>\n",
       "      <td>4.000000</td>\n",
       "      <td>41.000000</td>\n",
       "      <td>2020.000000</td>\n",
       "      <td>90.743243</td>\n",
       "      <td>45.594312</td>\n",
       "      <td>76.014773</td>\n",
       "      <td>40.466455</td>\n",
       "      <td>76.203390</td>\n",
       "      <td>45.373722</td>\n",
       "    </tr>\n",
       "    <tr>\n",
       "      <th>max</th>\n",
       "      <td>23.000000</td>\n",
       "      <td>379.000000</td>\n",
       "      <td>24.000000</td>\n",
       "      <td>12.000000</td>\n",
       "      <td>31.000000</td>\n",
       "      <td>6.000000</td>\n",
       "      <td>4.000000</td>\n",
       "      <td>53.000000</td>\n",
       "      <td>2021.000000</td>\n",
       "      <td>94.625843</td>\n",
       "      <td>50.436993</td>\n",
       "      <td>96.076211</td>\n",
       "      <td>62.165739</td>\n",
       "      <td>80.541391</td>\n",
       "      <td>54.907973</td>\n",
       "    </tr>\n",
       "  </tbody>\n",
       "</table>\n",
       "</div>"
      ],
      "text/plain": [
       "               hour        demand         entry         Month           day  \\\n",
       "count  18247.000000  18247.000000  18247.000000  18247.000000  18247.000000   \n",
       "mean      12.614731     73.991451     20.676659      6.470324     15.782430   \n",
       "std        6.544963     41.678988      2.201813      3.618189      8.772904   \n",
       "min        0.000000      1.000000      7.000000      1.000000      1.000000   \n",
       "25%        8.000000     43.000000     20.000000      3.000000      8.000000   \n",
       "50%       13.000000     71.000000     21.000000      7.000000     16.000000   \n",
       "75%       18.000000     98.000000     22.000000     10.000000     23.000000   \n",
       "max       23.000000    379.000000     24.000000     12.000000     31.000000   \n",
       "\n",
       "           day_week       quarter          week          year            hm  \\\n",
       "count  18247.000000  18247.000000  18247.000000  18247.000000  18247.000000   \n",
       "mean       3.025867      2.501233     26.543706   2019.396997     73.991451   \n",
       "std        2.003638      1.167955     15.828694      0.810979     15.100602   \n",
       "min        0.000000      1.000000      1.000000   2018.000000     49.097633   \n",
       "25%        1.000000      1.000000     12.000000   2019.000000     59.585608   \n",
       "50%        3.000000      3.000000     27.000000   2019.000000     70.292824   \n",
       "75%        5.000000      4.000000     41.000000   2020.000000     90.743243   \n",
       "max        6.000000      4.000000     53.000000   2021.000000     94.625843   \n",
       "\n",
       "                 hs            mm            ms            dm            ds  \n",
       "count  18247.000000  18247.000000  18247.000000  18247.000000  18247.000000  \n",
       "mean      38.134046     73.991451     39.938372     73.991451     41.205150  \n",
       "std        7.529657      8.753737      8.149379      3.599753      5.400087  \n",
       "min       28.839183     64.308677     32.966208     67.919540     33.456105  \n",
       "25%       30.605050     67.603868     34.594835     71.407407     36.906114  \n",
       "50%       35.864088     73.252600     38.470985     73.618033     39.254850  \n",
       "75%       45.594312     76.014773     40.466455     76.203390     45.373722  \n",
       "max       50.436993     96.076211     62.165739     80.541391     54.907973  "
      ]
     },
     "execution_count": 134,
     "metadata": {},
     "output_type": "execute_result"
    }
   ],
   "source": [
    "train.describe()"
   ]
  },
  {
   "cell_type": "code",
   "execution_count": 135,
   "id": "8c6a0005",
   "metadata": {},
   "outputs": [],
   "source": [
    "x=train[train['hour']==0]"
   ]
  },
  {
   "cell_type": "code",
   "execution_count": 136,
   "id": "d2b00316",
   "metadata": {},
   "outputs": [
    {
     "data": {
      "text/plain": [
       "2019    298\n",
       "2020    293\n",
       "2018     83\n",
       "2021     52\n",
       "Name: date, dtype: int64"
      ]
     },
     "execution_count": 136,
     "metadata": {},
     "output_type": "execute_result"
    }
   ],
   "source": [
    "x['date'].dt.year.value_counts()"
   ]
  },
  {
   "cell_type": "code",
   "execution_count": 137,
   "id": "f593eb81",
   "metadata": {},
   "outputs": [
    {
     "data": {
      "text/html": [
       "<div>\n",
       "<style scoped>\n",
       "    .dataframe tbody tr th:only-of-type {\n",
       "        vertical-align: middle;\n",
       "    }\n",
       "\n",
       "    .dataframe tbody tr th {\n",
       "        vertical-align: top;\n",
       "    }\n",
       "\n",
       "    .dataframe thead th {\n",
       "        text-align: right;\n",
       "    }\n",
       "</style>\n",
       "<table border=\"1\" class=\"dataframe\">\n",
       "  <thead>\n",
       "    <tr style=\"text-align: right;\">\n",
       "      <th></th>\n",
       "      <th>date</th>\n",
       "      <th>hour</th>\n",
       "      <th>demand</th>\n",
       "      <th>entry</th>\n",
       "      <th>Month</th>\n",
       "      <th>day</th>\n",
       "      <th>day_week</th>\n",
       "      <th>quarter</th>\n",
       "      <th>week</th>\n",
       "      <th>year</th>\n",
       "      <th>hm</th>\n",
       "      <th>hs</th>\n",
       "      <th>mm</th>\n",
       "      <th>ms</th>\n",
       "      <th>dm</th>\n",
       "      <th>ds</th>\n",
       "    </tr>\n",
       "  </thead>\n",
       "  <tbody>\n",
       "  </tbody>\n",
       "</table>\n",
       "</div>"
      ],
      "text/plain": [
       "Empty DataFrame\n",
       "Columns: [date, hour, demand, entry, Month, day, day_week, quarter, week, year, hm, hs, mm, ms, dm, ds]\n",
       "Index: []"
      ]
     },
     "execution_count": 137,
     "metadata": {},
     "output_type": "execute_result"
    }
   ],
   "source": [
    "train[train['entry'].isna()]"
   ]
  },
  {
   "cell_type": "code",
   "execution_count": 138,
   "id": "e6bfb69c",
   "metadata": {},
   "outputs": [
    {
     "data": {
      "text/plain": [
       "<AxesSubplot:>"
      ]
     },
     "execution_count": 138,
     "metadata": {},
     "output_type": "execute_result"
    },
    {
     "data": {
      "image/png": "[encoded data removed]",
      "text/plain": [
       "<Figure size 1080x1080 with 2 Axes>"
      ]
     },
     "metadata": {
      "needs_background": "light"
     },
     "output_type": "display_data"
    }
   ],
   "source": [
    "plt.figure(figsize=(15,15))\n",
    "sns.heatmap(train.corr(),annot=True)"
   ]
  },
  {
   "cell_type": "code",
   "execution_count": 139,
   "id": "e6d33c02",
   "metadata": {},
   "outputs": [
    {
     "data": {
      "text/plain": [
       "(Index(['date', 'hour', 'demand', 'entry', 'Month', 'day', 'day_week',\n",
       "        'quarter', 'week', 'year', 'hm', 'hs', 'mm', 'ms', 'dm', 'ds'],\n",
       "       dtype='object'),\n",
       " Index(['date', 'hour', 'entry', 'Month', 'day', 'day_week', 'quarter', 'week',\n",
       "        'year', 'hm', 'hs', 'mm', 'ms', 'dm', 'ds'],\n",
       "       dtype='object'))"
      ]
     },
     "execution_count": 139,
     "metadata": {},
     "output_type": "execute_result"
    }
   ],
   "source": [
    "train.columns,test.columns"
   ]
  },
  {
   "cell_type": "code",
   "execution_count": 140,
   "id": "ff83edcf",
   "metadata": {},
   "outputs": [],
   "source": [
    "X=train.drop(['demand','date'],axis=1)"
   ]
  },
  {
   "cell_type": "code",
   "execution_count": 141,
   "id": "bb66ac73",
   "metadata": {},
   "outputs": [],
   "source": [
    "y=train['demand']"
   ]
  },
  {
   "cell_type": "code",
   "execution_count": 142,
   "id": "7f7cd87f",
   "metadata": {},
   "outputs": [
    {
     "name": "stdout",
     "output_type": "stream",
     "text": [
      "<class 'pandas.core.frame.DataFrame'>\n",
      "RangeIndex: 18247 entries, 0 to 18246\n",
      "Data columns (total 14 columns):\n",
      " #   Column    Non-Null Count  Dtype  \n",
      "---  ------    --------------  -----  \n",
      " 0   hour      18247 non-null  int64  \n",
      " 1   entry     18247 non-null  int64  \n",
      " 2   Month     18247 non-null  int64  \n",
      " 3   day       18247 non-null  int64  \n",
      " 4   day_week  18247 non-null  int64  \n",
      " 5   quarter   18247 non-null  int64  \n",
      " 6   week      18247 non-null  int64  \n",
      " 7   year      18247 non-null  int64  \n",
      " 8   hm        18247 non-null  float64\n",
      " 9   hs        18247 non-null  float64\n",
      " 10  mm        18247 non-null  float64\n",
      " 11  ms        18247 non-null  float64\n",
      " 12  dm        18247 non-null  float64\n",
      " 13  ds        18247 non-null  float64\n",
      "dtypes: float64(6), int64(8)\n",
      "memory usage: 1.9 MB\n"
     ]
    }
   ],
   "source": [
    "X.info()"
   ]
  },
  {
   "cell_type": "markdown",
   "id": "9ca3734f",
   "metadata": {},
   "source": [
    "## Linear regression"
   ]
  },
  {
   "cell_type": "raw",
   "id": "9b6cffd4",
   "metadata": {},
   "source": [
    "from sklearn.linear_model import LinearRegression\n",
    "base_model = LinearRegression()\n",
    "base_model.fit(X, y)"
   ]
  },
  {
   "cell_type": "code",
   "execution_count": 143,
   "id": "fd3b9b6d",
   "metadata": {},
   "outputs": [],
   "source": [
    "test1=test.drop('date',axis=1)"
   ]
  },
  {
   "cell_type": "raw",
   "id": "b4110f2c",
   "metadata": {},
   "source": [
    "y_predict = base_model.predict(test1)"
   ]
  },
  {
   "cell_type": "raw",
   "id": "1a3e521a",
   "metadata": {},
   "source": [
    "test['demand']=y_predict"
   ]
  },
  {
   "cell_type": "raw",
   "id": "07dee999",
   "metadata": {},
   "source": [
    "y_pred = base_model.predict(X)\n",
    "\n",
    "from sklearn.metrics import mean_squared_error\n",
    "mean_squared_error(y_pred, y, squared=False)"
   ]
  },
  {
   "cell_type": "raw",
   "id": "4a04e43c",
   "metadata": {},
   "source": [
    "test"
   ]
  },
  {
   "cell_type": "markdown",
   "id": "9faa3700",
   "metadata": {},
   "source": [
    "## Decision tree"
   ]
  },
  {
   "cell_type": "raw",
   "id": "2fedb3b2",
   "metadata": {},
   "source": [
    "from sklearn.tree import DecisionTreeRegressor\n",
    "regressor = DecisionTreeRegressor(random_state=0 , max_depth=5)"
   ]
  },
  {
   "cell_type": "raw",
   "id": "29709314",
   "metadata": {},
   "source": [
    "regressor.fit(X, y)"
   ]
  },
  {
   "cell_type": "raw",
   "id": "8b6675de",
   "metadata": {},
   "source": [
    "y_predict = base_model.predict(test1)\n",
    "y_pred = base_model.predict(X)"
   ]
  },
  {
   "cell_type": "raw",
   "id": "ac33f097",
   "metadata": {},
   "source": [
    "from sklearn.metrics import mean_squared_error\n",
    "mean_squared_error(y_pred, y, squared=False)"
   ]
  },
  {
   "cell_type": "raw",
   "id": "4736d907",
   "metadata": {},
   "source": [
    "test['demand']=y_predict\n",
    "test"
   ]
  },
  {
   "cell_type": "code",
   "execution_count": 144,
   "id": "68ec330f",
   "metadata": {},
   "outputs": [
    {
     "data": {
      "text/plain": [
       "Index(['date', 'hour', 'demand', 'entry', 'Month', 'day', 'day_week',\n",
       "       'quarter', 'week', 'year', 'hm', 'hs', 'mm', 'ms', 'dm', 'ds'],\n",
       "      dtype='object')"
      ]
     },
     "execution_count": 144,
     "metadata": {},
     "output_type": "execute_result"
    }
   ],
   "source": [
    "train.columns"
   ]
  },
  {
   "cell_type": "code",
   "execution_count": 180,
   "id": "fcf8c7ea",
   "metadata": {},
   "outputs": [],
   "source": [
    "feats=['hour' ,\n",
    "#        'entry', \n",
    "       'Month', 'day', 'day_week',#'year',\n",
    "      'quarter', #'week',\n",
    "       'hm','hs',#'dm','ds'\n",
    "      ]"
   ]
  },
  {
   "cell_type": "code",
   "execution_count": 181,
   "id": "0ab8a0e2",
   "metadata": {},
   "outputs": [
    {
     "data": {
      "text/plain": [
       "LGBMRegressor()"
      ]
     },
     "execution_count": 181,
     "metadata": {},
     "output_type": "execute_result"
    }
   ],
   "source": [
    "import lightgbm as lgb\n",
    "# lgb_model = lgb.LGBMRegressor(max_depth=2,num_leaves = 3,n_estimators = 20)\n",
    "# lgb_model = lgb.LGBMRegressor(objective='quantile',alpha=0.5)\n",
    "lgb_model = lgb.LGBMRegressor()\n",
    "lgb_model.fit(train[feats],y)"
   ]
  },
  {
   "cell_type": "code",
   "execution_count": 182,
   "id": "319d6c64",
   "metadata": {},
   "outputs": [],
   "source": [
    "y_predlgbm=lgb_model.predict(test1[feats])"
   ]
  },
  {
   "cell_type": "code",
   "execution_count": 183,
   "id": "4fd3286a",
   "metadata": {},
   "outputs": [],
   "source": [
    "y_predl=lgb_model.predict(train[feats])"
   ]
  },
  {
   "cell_type": "code",
   "execution_count": 184,
   "id": "84ded240",
   "metadata": {},
   "outputs": [],
   "source": [
    "test['demand']=y_predlgbm"
   ]
  },
  {
   "cell_type": "code",
   "execution_count": 185,
   "id": "c911dc8e",
   "metadata": {},
   "outputs": [
    {
     "data": {
      "text/plain": [
       "31.122445951212566"
      ]
     },
     "execution_count": 185,
     "metadata": {},
     "output_type": "execute_result"
    }
   ],
   "source": [
    "y_pred = lgb_model.predict(train[feats])\n",
    "\n",
    "from sklearn.metrics import mean_squared_error\n",
    "mean_squared_error(y_predl, y, squared=False)"
   ]
  },
  {
   "cell_type": "code",
   "execution_count": null,
   "id": "3bccb017",
   "metadata": {},
   "outputs": [],
   "source": []
  },
  {
   "cell_type": "markdown",
   "id": "8b3445cb",
   "metadata": {},
   "source": [
    "## Output"
   ]
  },
  {
   "cell_type": "code",
   "execution_count": 186,
   "id": "9c564360",
   "metadata": {},
   "outputs": [],
   "source": [
    "new=test[['date','hour','demand']]\n",
    "\n",
    "new.to_csv('lgbmf1.csv',index=False)"
   ]
  },
  {
   "cell_type": "code",
   "execution_count": null,
   "id": "0caab39c",
   "metadata": {},
   "outputs": [],
   "source": []
  }
 ],
 "metadata": {
  "kernelspec": {
   "display_name": "Python 3 (ipykernel)",
   "language": "python",
   "name": "python3"
  },
  "language_info": {
   "codemirror_mode": {
    "name": "ipython",
    "version": 3
   },
   "file_extension": ".py",
   "mimetype": "text/x-python",
   "name": "python",
   "nbconvert_exporter": "python",
   "pygments_lexer": "ipython3",
   "version": "3.9.6"
  },
  "toc": {
   "base_numbering": 1,
   "nav_menu": {},
   "number_sections": true,
   "sideBar": true,
   "skip_h1_title": false,
   "title_cell": "Table of Contents",
   "title_sidebar": "Contents",
   "toc_cell": false,
   "toc_position": {},
   "toc_section_display": true,
   "toc_window_display": false
  }
 },
 "nbformat": 4,
 "nbformat_minor": 5
}
